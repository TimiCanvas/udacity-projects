{
 "cells": [
  {
   "cell_type": "markdown",
   "metadata": {
    "slideshow": {
     "slide_type": "slide"
    }
   },
   "source": [
    "# Analysis of Factors Causing Long Trips in San Fransisco\n",
    "\n",
    "## by Shadrack T. Adeyemi"
   ]
  },
  {
   "cell_type": "markdown",
   "metadata": {
    "slideshow": {
     "slide_type": "slide"
    }
   },
   "source": [
    "## Investigation Overview\n",
    "For the presentation, I focused on some factors that affect the long trips of bike riders in San Fransisco. The main features of interest are the time and day of the week, the user types and the gender of members. \n",
    "\n",
    "\n",
    "## Dataset Overview\n",
    "This dataset contains information of over 183,000 bike rides of a bike-sharing system in the greater San Fransisco Bay Area. This data set has information about individual rides during the month of February, with features such as durations, member gender, customer type, amongst others."
   ]
  },
  {
   "cell_type": "code",
   "execution_count": 1,
   "metadata": {
    "slideshow": {
     "slide_type": "skip"
    }
   },
   "outputs": [],
   "source": [
    "# import all packages and set plots to be embedded inline\n",
    "import numpy as np\n",
    "import pandas as pd\n",
    "import matplotlib.pyplot as plt\n",
    "import seaborn as sns\n",
    "\n",
    "%matplotlib inline\n",
    "\n",
    "# suppress warnings from final output\n",
    "import warnings\n",
    "warnings.simplefilter(\"ignore\")"
   ]
  },
  {
   "cell_type": "code",
   "execution_count": 8,
   "metadata": {
    "slideshow": {
     "slide_type": "skip"
    }
   },
   "outputs": [],
   "source": [
    "# load in the dataset into a pandas dataframe\n",
    "df = pd.read_csv('201902-fordgobike-tripdata.csv')"
   ]
  },
  {
   "cell_type": "code",
   "execution_count": 9,
   "metadata": {
    "slideshow": {
     "slide_type": "skip"
    }
   },
   "outputs": [],
   "source": [
    "# coverting the neccesary columns into categorical dtype\n",
    "\n",
    "to_convert = ['user_type','member_gender','bike_share_for_all_trip']\n",
    "\n",
    "for col in to_convert:\n",
    "  df[col] = df[col].astype('category')"
   ]
  },
  {
   "cell_type": "code",
   "execution_count": 10,
   "metadata": {
    "slideshow": {
     "slide_type": "skip"
    }
   },
   "outputs": [
    {
     "data": {
      "text/plain": [
       "(174952, 16)"
      ]
     },
     "execution_count": 10,
     "metadata": {},
     "output_type": "execute_result"
    }
   ],
   "source": [
    "#drop missing rows\n",
    "df.dropna(inplace=True)\n",
    "df.shape"
   ]
  },
  {
   "cell_type": "code",
   "execution_count": 11,
   "metadata": {
    "slideshow": {
     "slide_type": "skip"
    }
   },
   "outputs": [],
   "source": [
    "#changing dtypes of start and end times\n",
    "df['start_time'] = pd.to_datetime(df['start_time'])\n",
    "df['end_time'] = pd.to_datetime(df['end_time'])\n",
    "df['start_day'] = df['start_time'].dt.day_name()\n",
    "df['start_month'] = df['start_time'].dt.month_name()\n",
    "df['start_hour'] = df['start_time'].dt.hour\n",
    "df['end_day'] = df['end_time'].dt.day_name()\n",
    "df['end_month'] = df['end_time'].dt.month_name()\n",
    "df['end_hour'] = df['end_time'].dt.hour"
   ]
  },
  {
   "cell_type": "code",
   "execution_count": 12,
   "metadata": {
    "slideshow": {
     "slide_type": "skip"
    }
   },
   "outputs": [],
   "source": [
    "# converting the start and end station id column from float to int format\n",
    "convert = ['start_station_id', 'end_station_id']\n",
    "for col in convert:\n",
    "    df[col] = df[col].astype(int)"
   ]
  },
  {
   "cell_type": "code",
   "execution_count": 13,
   "metadata": {
    "slideshow": {
     "slide_type": "skip"
    }
   },
   "outputs": [],
   "source": [
    "#create a column to reflect trip duration in minutes as supposed to seconds for easy analysis\n",
    "df['duration_min'] = df['duration_sec']/60"
   ]
  },
  {
   "cell_type": "markdown",
   "metadata": {
    "slideshow": {
     "slide_type": "notes"
    }
   },
   "source": [
    "> Note that the above cells have been set as \"Skip\"-type slides. That means\n",
    "that when the notebook is rendered as http slides, those cells won't show up."
   ]
  },
  {
   "cell_type": "markdown",
   "metadata": {
    "slideshow": {
     "slide_type": "slide"
    }
   },
   "source": [
    "## Trip Frequency Distribution of the Time and Day\n",
    "\n",
    "These plot show a bimodal distribution, with the most frequent rides taken between 8am-9am and 5pm-6pm and mostly on Thursdays."
   ]
  },
  {
   "cell_type": "code",
   "execution_count": 5,
   "metadata": {
    "slideshow": {
     "slide_type": "skip"
    }
   },
   "outputs": [],
   "source": [
    "#define function to set axis labels and title\n",
    "def set_labels(xlabel,ylabel,title):\n",
    "    plt.xlabel(xlabel)\n",
    "    plt.ylabel(ylabel)\n",
    "    plt.title(title, pad = 25)\n",
    "    \n",
    "base_color = sns.color_palette()[0]"
   ]
  },
  {
   "cell_type": "code",
   "execution_count": 14,
   "metadata": {
    "slideshow": {
     "slide_type": "subslide"
    }
   },
   "outputs": [
    {
     "data": {
      "image/png": "[encoded data removed]",
      "text/plain": [
       "<Figure size 864x288 with 1 Axes>"
      ]
     },
     "metadata": {
      "needs_background": "light"
     },
     "output_type": "display_data"
    }
   ],
   "source": [
    "plt.figure(figsize = [12,4])\n",
    "plt.hist(df['start_hour'], bins = np.arange(0,25,1))\n",
    "plt.xticks(np.arange(0,25,1))\n",
    "set_labels('Start Hour','Frequency','Frequency distribution of Start Hour');"
   ]
  },
  {
   "cell_type": "code",
   "execution_count": 19,
   "metadata": {
    "slideshow": {
     "slide_type": "subslide"
    }
   },
   "outputs": [
    {
     "data": {
      "image/png": "[encoded data removed]",
      "text/plain": [
       "<Figure size 720x288 with 1 Axes>"
      ]
     },
     "metadata": {
      "needs_background": "light"
     },
     "output_type": "display_data"
    }
   ],
   "source": [
    "order_of_days = ['Monday', 'Tuesday','Wednesday', 'Thursday', 'Friday', 'Saturday', 'Sunday']\n",
    "week = pd.api.types.CategoricalDtype(order_of_days, ordered = True)\n",
    "df['start_day'] = df['start_day'].astype(week)\n",
    "df['end_day'] = df['end_day'].astype(week)\n",
    "\n",
    "plt.figure(figsize = [10,4])\n",
    "sns.countplot(x=df['start_day'], color = sns.color_palette()[0])\n",
    "set_labels('Start Day','Frequency','Frequency distribution of Start Day')"
   ]
  },
  {
   "cell_type": "markdown",
   "metadata": {
    "collapsed": true,
    "slideshow": {
     "slide_type": "slide"
    }
   },
   "source": [
    "## Further Investigation into the Trip Duration of the Time and Day\n",
    "\n",
    "A facetgrid of the trip duration for each start hour at everyday is plotted to investigate further. After the plot I realised more information on the time and day trip frequency, where at weekdays the distribution is bimodal, and unimodal at weekends. Also at weekends, the time for most trips occurred between 1pm and 3pm."
   ]
  },
  {
   "cell_type": "code",
   "execution_count": 21,
   "metadata": {
    "slideshow": {
     "slide_type": "subslide"
    }
   },
   "outputs": [
    {
     "data": {
      "text/plain": [
       "<Figure size 1296x288 with 0 Axes>"
      ]
     },
     "metadata": {},
     "output_type": "display_data"
    },
    {
     "data": {
      "image/png": "[encoded data removed]",
      "text/plain": [
       "<Figure size 1440x720 with 7 Axes>"
      ]
     },
     "metadata": {
      "needs_background": "light"
     },
     "output_type": "display_data"
    }
   ],
   "source": [
    "plt.figure(figsize = [18,4])\n",
    "a = sns.FacetGrid(data = df, col = 'start_day', height = 5, col_wrap=4)\n",
    "a.map(plt.hist, 'start_hour', bins = np.arange(0,25,1));"
   ]
  },
  {
   "cell_type": "markdown",
   "metadata": {
    "slideshow": {
     "slide_type": "slide"
    }
   },
   "source": [
    "## Frequency Distribution of Average Trip Duration for Member Genders\n",
    "\n",
    "This multivariate histogram chart shows that the 'Other' gender despite having the least frequent riders have the highest average trip duration at 11.43 minutes, with the 'Female' gender coming in a close at 11.26 minutes.\n",
    "The assumption made in this analysis is that the 'Other' gender represents LGBTQ+."
   ]
  },
  {
   "cell_type": "code",
   "execution_count": 28,
   "metadata": {
    "slideshow": {
     "slide_type": "skip"
    }
   },
   "outputs": [],
   "source": [
    "df.drop(df[df['duration_min']>60].index, inplace=True)"
   ]
  },
  {
   "cell_type": "code",
   "execution_count": 26,
   "metadata": {
    "slideshow": {
     "slide_type": "skip"
    }
   },
   "outputs": [
    {
     "name": "stdout",
     "output_type": "stream",
     "text": [
      "Average trip duration for the 'Male' gender: 9.98 mins\n",
      "Average trip duration for the 'Female' gender: 11.26 mins\n",
      "Average trip duration for the 'Other' gender: 11.43 mins\n"
     ]
    }
   ],
   "source": [
    "#average trip duration of the 'male' gender\n",
    "male_mean = df.query('member_gender == \"Male\"')['duration_min'].mean()\n",
    "\n",
    "#average trip duration of the 'female' gender\n",
    "female_mean = df.query('member_gender == \"Female\"')['duration_min'].mean()\n",
    "\n",
    "#average trip duration of the 'other' gender\n",
    "other_mean = df.query('member_gender == \"Other\"')['duration_min'].mean()\n",
    "\n",
    "print('Average trip duration for the \\'Male\\' gender: {:.2f} mins'.format(male_mean))\n",
    "print('Average trip duration for the \\'Female\\' gender: {:.2f} mins'.format(female_mean))\n",
    "print('Average trip duration for the \\'Other\\' gender: {:.2f} mins'.format(other_mean));"
   ]
  },
  {
   "cell_type": "code",
   "execution_count": 27,
   "metadata": {
    "slideshow": {
     "slide_type": "subslide"
    }
   },
   "outputs": [
    {
     "data": {
      "image/png": "[encoded data removed]",
      "text/plain": [
       "<Figure size 1296x504 with 1 Axes>"
      ]
     },
     "metadata": {
      "needs_background": "light"
     },
     "output_type": "display_data"
    }
   ],
   "source": [
    "#plotting distribution of ride durations per gender\n",
    "plt.figure(figsize=[18,7])\n",
    "plt.hist(x= df.query('member_gender == \"Male\"')['duration_min'], bins = np.arange(0,61,1), label = 'Male')\n",
    "plt.hist(x= df.query('member_gender == \"Female\"')['duration_min'], bins = np.arange(0,61,1), label = 'Female')\n",
    "plt.hist(x= df.query('member_gender == \"Other\"')['duration_min'], bins = np.arange(0,61,1), label = 'Other')\n",
    "set_labels('Duration(mins)', 'Frequency', 'Distribution of Gender per Average Duration')\n",
    "plt.axvline(male_mean, color='yellow', label='Male Avg Duration')\n",
    "plt.axvline(female_mean, color='red', label='Female Avg Duration')\n",
    "plt.axvline(other_mean, color='green', label='Other Avg Duration')\n",
    "plt.legend(loc='upper right')\n",
    "plt.show();"
   ]
  },
  {
   "cell_type": "markdown",
   "metadata": {
    "slideshow": {
     "slide_type": "notes"
    }
   },
   "source": [
    ">**Generate Slideshow**: Once you're ready to generate your slideshow, use the `jupyter nbconvert` command to generate the HTML slide show. . From the terminal or command line, use the following expression."
   ]
  },
  {
   "cell_type": "code",
   "execution_count": 42,
   "metadata": {
    "slideshow": {
     "slide_type": "skip"
    }
   },
   "outputs": [
    {
     "ename": "SyntaxError",
     "evalue": "invalid syntax (3495853951.py, line 1)",
     "output_type": "error",
     "traceback": [
      "\u001b[1;36m  Input \u001b[1;32mIn [42]\u001b[1;36m\u001b[0m\n\u001b[1;33m    jupyter nbconvert Part_II_slide_deck_template.ipynb --to slides --post serve --no-input --no-prompt\u001b[0m\n\u001b[1;37m            ^\u001b[0m\n\u001b[1;31mSyntaxError\u001b[0m\u001b[1;31m:\u001b[0m invalid syntax\n"
     ]
    }
   ],
   "source": [
    "jupyter nbconvert Part_II_slide_deck_template.ipynb --to slides --post serve --no-input --no-prompt"
   ]
  },
  {
   "cell_type": "markdown",
   "metadata": {
    "slideshow": {
     "slide_type": "notes"
    }
   },
   "source": [
    "> This should open a tab in your web browser where you can scroll through your presentation. Sub-slides can be accessed by pressing 'down' when viewing its parent slide. Make sure you remove all of the quote-formatted guide notes like this one before you finish your presentation! At last, you can stop the Kernel. "
   ]
  },
  {
   "cell_type": "code",
   "execution_count": null,
   "metadata": {},
   "outputs": [],
   "source": []
  }
 ],
 "metadata": {
  "celltoolbar": "Slideshow",
  "kernelspec": {
   "display_name": "Python 3 (ipykernel)",
   "language": "python",
   "name": "python3"
  },
  "language_info": {
   "codemirror_mode": {
    "name": "ipython",
    "version": 3
   },
   "file_extension": ".py",
   "mimetype": "text/x-python",
   "name": "python",
   "nbconvert_exporter": "python",
   "pygments_lexer": "ipython3",
   "version": "3.8.13"
  }
 },
 "nbformat": 4,
 "nbformat_minor": 2
}
