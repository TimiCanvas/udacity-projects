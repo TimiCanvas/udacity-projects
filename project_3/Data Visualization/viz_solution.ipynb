{
 "cells": [
  {
   "cell_type": "markdown",
   "metadata": {},
   "source": [
    "## Week 9 - Univariate and Bivariate Exploration of Data"
   ]
  },
  {
   "cell_type": "code",
   "execution_count": 2,
   "metadata": {},
   "outputs": [],
   "source": [
    "# import the necessary libraries\n",
    "import matplotlib.pyplot as plt\n",
    "import numpy as np\n",
    "import pandas as pd\n",
    "import seaborn as sb"
   ]
  },
  {
   "cell_type": "code",
   "execution_count": 3,
   "metadata": {},
   "outputs": [
    {
     "data": {
      "text/html": [
       "<div>\n",
       "<style scoped>\n",
       "    .dataframe tbody tr th:only-of-type {\n",
       "        vertical-align: middle;\n",
       "    }\n",
       "\n",
       "    .dataframe tbody tr th {\n",
       "        vertical-align: top;\n",
       "    }\n",
       "\n",
       "    .dataframe thead th {\n",
       "        text-align: right;\n",
       "    }\n",
       "</style>\n",
       "<table border=\"1\" class=\"dataframe\">\n",
       "  <thead>\n",
       "    <tr style=\"text-align: right;\">\n",
       "      <th></th>\n",
       "      <th>id</th>\n",
       "      <th>make</th>\n",
       "      <th>model</th>\n",
       "      <th>year</th>\n",
       "      <th>VClass</th>\n",
       "      <th>drive</th>\n",
       "      <th>trans</th>\n",
       "      <th>fuelType</th>\n",
       "      <th>cylinders</th>\n",
       "      <th>displ</th>\n",
       "      <th>pv2</th>\n",
       "      <th>pv4</th>\n",
       "      <th>city</th>\n",
       "      <th>UCity</th>\n",
       "      <th>highway</th>\n",
       "      <th>UHighway</th>\n",
       "      <th>comb</th>\n",
       "      <th>co2</th>\n",
       "      <th>feScore</th>\n",
       "      <th>ghgScore</th>\n",
       "    </tr>\n",
       "  </thead>\n",
       "  <tbody>\n",
       "    <tr>\n",
       "      <th>0</th>\n",
       "      <td>32204</td>\n",
       "      <td>Nissan</td>\n",
       "      <td>GT-R</td>\n",
       "      <td>2013</td>\n",
       "      <td>Subcompact Cars</td>\n",
       "      <td>All-Wheel Drive</td>\n",
       "      <td>Automatic (AM6)</td>\n",
       "      <td>Premium Gasoline</td>\n",
       "      <td>6</td>\n",
       "      <td>3.8</td>\n",
       "      <td>79</td>\n",
       "      <td>0</td>\n",
       "      <td>16.4596</td>\n",
       "      <td>20.2988</td>\n",
       "      <td>22.5568</td>\n",
       "      <td>30.1798</td>\n",
       "      <td>18.7389</td>\n",
       "      <td>471</td>\n",
       "      <td>4</td>\n",
       "      <td>4</td>\n",
       "    </tr>\n",
       "    <tr>\n",
       "      <th>1</th>\n",
       "      <td>32205</td>\n",
       "      <td>Volkswagen</td>\n",
       "      <td>CC</td>\n",
       "      <td>2013</td>\n",
       "      <td>Compact Cars</td>\n",
       "      <td>Front-Wheel Drive</td>\n",
       "      <td>Automatic (AM-S6)</td>\n",
       "      <td>Premium Gasoline</td>\n",
       "      <td>4</td>\n",
       "      <td>2.0</td>\n",
       "      <td>94</td>\n",
       "      <td>0</td>\n",
       "      <td>21.8706</td>\n",
       "      <td>26.9770</td>\n",
       "      <td>31.0367</td>\n",
       "      <td>42.4936</td>\n",
       "      <td>25.2227</td>\n",
       "      <td>349</td>\n",
       "      <td>6</td>\n",
       "      <td>6</td>\n",
       "    </tr>\n",
       "    <tr>\n",
       "      <th>2</th>\n",
       "      <td>32206</td>\n",
       "      <td>Volkswagen</td>\n",
       "      <td>CC</td>\n",
       "      <td>2013</td>\n",
       "      <td>Compact Cars</td>\n",
       "      <td>Front-Wheel Drive</td>\n",
       "      <td>Automatic (S6)</td>\n",
       "      <td>Premium Gasoline</td>\n",
       "      <td>6</td>\n",
       "      <td>3.6</td>\n",
       "      <td>94</td>\n",
       "      <td>0</td>\n",
       "      <td>17.4935</td>\n",
       "      <td>21.2000</td>\n",
       "      <td>26.5716</td>\n",
       "      <td>35.1000</td>\n",
       "      <td>20.6716</td>\n",
       "      <td>429</td>\n",
       "      <td>5</td>\n",
       "      <td>5</td>\n",
       "    </tr>\n",
       "    <tr>\n",
       "      <th>3</th>\n",
       "      <td>32207</td>\n",
       "      <td>Volkswagen</td>\n",
       "      <td>CC 4motion</td>\n",
       "      <td>2013</td>\n",
       "      <td>Compact Cars</td>\n",
       "      <td>All-Wheel Drive</td>\n",
       "      <td>Automatic (S6)</td>\n",
       "      <td>Premium Gasoline</td>\n",
       "      <td>6</td>\n",
       "      <td>3.6</td>\n",
       "      <td>94</td>\n",
       "      <td>0</td>\n",
       "      <td>16.9415</td>\n",
       "      <td>20.5000</td>\n",
       "      <td>25.2190</td>\n",
       "      <td>33.5000</td>\n",
       "      <td>19.8774</td>\n",
       "      <td>446</td>\n",
       "      <td>5</td>\n",
       "      <td>5</td>\n",
       "    </tr>\n",
       "    <tr>\n",
       "      <th>4</th>\n",
       "      <td>32208</td>\n",
       "      <td>Chevrolet</td>\n",
       "      <td>Malibu eAssist</td>\n",
       "      <td>2013</td>\n",
       "      <td>Midsize Cars</td>\n",
       "      <td>Front-Wheel Drive</td>\n",
       "      <td>Automatic (S6)</td>\n",
       "      <td>Regular Gasoline</td>\n",
       "      <td>4</td>\n",
       "      <td>2.4</td>\n",
       "      <td>0</td>\n",
       "      <td>95</td>\n",
       "      <td>24.7726</td>\n",
       "      <td>31.9796</td>\n",
       "      <td>35.5340</td>\n",
       "      <td>51.8816</td>\n",
       "      <td>28.6813</td>\n",
       "      <td>310</td>\n",
       "      <td>8</td>\n",
       "      <td>8</td>\n",
       "    </tr>\n",
       "  </tbody>\n",
       "</table>\n",
       "</div>"
      ],
      "text/plain": [
       "      id        make           model  year           VClass  \\\n",
       "0  32204      Nissan            GT-R  2013  Subcompact Cars   \n",
       "1  32205  Volkswagen              CC  2013     Compact Cars   \n",
       "2  32206  Volkswagen              CC  2013     Compact Cars   \n",
       "3  32207  Volkswagen      CC 4motion  2013     Compact Cars   \n",
       "4  32208   Chevrolet  Malibu eAssist  2013     Midsize Cars   \n",
       "\n",
       "               drive              trans          fuelType  cylinders  displ  \\\n",
       "0    All-Wheel Drive    Automatic (AM6)  Premium Gasoline          6    3.8   \n",
       "1  Front-Wheel Drive  Automatic (AM-S6)  Premium Gasoline          4    2.0   \n",
       "2  Front-Wheel Drive     Automatic (S6)  Premium Gasoline          6    3.6   \n",
       "3    All-Wheel Drive     Automatic (S6)  Premium Gasoline          6    3.6   \n",
       "4  Front-Wheel Drive     Automatic (S6)  Regular Gasoline          4    2.4   \n",
       "\n",
       "   pv2  pv4     city    UCity  highway  UHighway     comb  co2  feScore  \\\n",
       "0   79    0  16.4596  20.2988  22.5568   30.1798  18.7389  471        4   \n",
       "1   94    0  21.8706  26.9770  31.0367   42.4936  25.2227  349        6   \n",
       "2   94    0  17.4935  21.2000  26.5716   35.1000  20.6716  429        5   \n",
       "3   94    0  16.9415  20.5000  25.2190   33.5000  19.8774  446        5   \n",
       "4    0   95  24.7726  31.9796  35.5340   51.8816  28.6813  310        8   \n",
       "\n",
       "   ghgScore  \n",
       "0         4  \n",
       "1         6  \n",
       "2         5  \n",
       "3         5  \n",
       "4         8  "
      ]
     },
     "execution_count": 3,
     "metadata": {},
     "output_type": "execute_result"
    }
   ],
   "source": [
    "# read in the data into a pandas dataframe\n",
    "df = pd.read_csv('fuel-econ.csv')\n",
    "df.head()"
   ]
  },
  {
   "cell_type": "markdown",
   "metadata": {},
   "source": [
    "### Data Wrangling (Assessing & Cleaning)"
   ]
  },
  {
   "cell_type": "code",
   "execution_count": 3,
   "metadata": {},
   "outputs": [
    {
     "data": {
      "text/plain": [
       "id             int64\n",
       "make          object\n",
       "model         object\n",
       "year           int64\n",
       "VClass        object\n",
       "drive         object\n",
       "trans         object\n",
       "fuelType      object\n",
       "cylinders      int64\n",
       "displ        float64\n",
       "pv2            int64\n",
       "pv4            int64\n",
       "city         float64\n",
       "UCity        float64\n",
       "highway      float64\n",
       "UHighway     float64\n",
       "comb         float64\n",
       "co2            int64\n",
       "feScore        int64\n",
       "ghgScore       int64\n",
       "dtype: object"
      ]
     },
     "execution_count": 3,
     "metadata": {},
     "output_type": "execute_result"
    }
   ],
   "source": [
    "# check the datatypes\n",
    "df.dtypes"
   ]
  },
  {
   "cell_type": "code",
   "execution_count": 5,
   "metadata": {},
   "outputs": [
    {
     "data": {
      "text/plain": [
       "array(['Subcompact Cars', 'Compact Cars', 'Midsize Cars', 'Large Cars',\n",
       "       'Minicompact Cars'], dtype=object)"
      ]
     },
     "execution_count": 5,
     "metadata": {},
     "output_type": "execute_result"
    }
   ],
   "source": [
    "df.VClass.unique()"
   ]
  },
  {
   "cell_type": "markdown",
   "metadata": {},
   "source": [
    "The vclass should have a categorical datatype but is currently seen as a string. We'll change that first."
   ]
  },
  {
   "cell_type": "code",
   "execution_count": 6,
   "metadata": {},
   "outputs": [
    {
     "data": {
      "text/plain": [
       "id              int64\n",
       "make           object\n",
       "model          object\n",
       "year            int64\n",
       "VClass       category\n",
       "drive          object\n",
       "trans          object\n",
       "fuelType       object\n",
       "cylinders       int64\n",
       "displ         float64\n",
       "pv2             int64\n",
       "pv4             int64\n",
       "city          float64\n",
       "UCity         float64\n",
       "highway       float64\n",
       "UHighway      float64\n",
       "comb          float64\n",
       "co2             int64\n",
       "feScore         int64\n",
       "ghgScore        int64\n",
       "dtype: object"
      ]
     },
     "execution_count": 6,
     "metadata": {},
     "output_type": "execute_result"
    }
   ],
   "source": [
    "# define the order of the ordinal variable\n",
    "vclass_type = pd.api.types.CategoricalDtype(categories=['Minicompact Cars','Subcompact Cars','Compact Cars','Midsize Cars','Large Cars'], ordered=True)\n",
    "# change the datatype\n",
    "df.VClass = df.VClass.astype(vclass_type)\n",
    "# confirm the datatype is now okay\n",
    "df.dtypes"
   ]
  },
  {
   "cell_type": "code",
   "execution_count": 7,
   "metadata": {},
   "outputs": [
    {
     "data": {
      "text/plain": [
       "id           0\n",
       "make         0\n",
       "model        0\n",
       "year         0\n",
       "VClass       0\n",
       "drive        0\n",
       "trans        0\n",
       "fuelType     0\n",
       "cylinders    0\n",
       "displ        0\n",
       "pv2          0\n",
       "pv4          0\n",
       "city         0\n",
       "UCity        0\n",
       "highway      0\n",
       "UHighway     0\n",
       "comb         0\n",
       "co2          0\n",
       "feScore      0\n",
       "ghgScore     0\n",
       "dtype: int64"
      ]
     },
     "execution_count": 7,
     "metadata": {},
     "output_type": "execute_result"
    }
   ],
   "source": [
    "# check for null values\n",
    "df.isnull().sum()"
   ]
  },
  {
   "cell_type": "code",
   "execution_count": 8,
   "metadata": {},
   "outputs": [
    {
     "data": {
      "text/html": [
       "<div>\n",
       "<style scoped>\n",
       "    .dataframe tbody tr th:only-of-type {\n",
       "        vertical-align: middle;\n",
       "    }\n",
       "\n",
       "    .dataframe tbody tr th {\n",
       "        vertical-align: top;\n",
       "    }\n",
       "\n",
       "    .dataframe thead th {\n",
       "        text-align: right;\n",
       "    }\n",
       "</style>\n",
       "<table border=\"1\" class=\"dataframe\">\n",
       "  <thead>\n",
       "    <tr style=\"text-align: right;\">\n",
       "      <th></th>\n",
       "      <th>id</th>\n",
       "      <th>make</th>\n",
       "      <th>model</th>\n",
       "      <th>year</th>\n",
       "      <th>VClass</th>\n",
       "      <th>drive</th>\n",
       "      <th>trans</th>\n",
       "      <th>fuelType</th>\n",
       "      <th>cylinders</th>\n",
       "      <th>displ</th>\n",
       "      <th>pv2</th>\n",
       "      <th>pv4</th>\n",
       "      <th>city</th>\n",
       "      <th>UCity</th>\n",
       "      <th>highway</th>\n",
       "      <th>UHighway</th>\n",
       "      <th>comb</th>\n",
       "      <th>co2</th>\n",
       "      <th>feScore</th>\n",
       "      <th>ghgScore</th>\n",
       "    </tr>\n",
       "  </thead>\n",
       "  <tbody>\n",
       "    <tr>\n",
       "      <th>2206</th>\n",
       "      <td>36461</td>\n",
       "      <td>Buick</td>\n",
       "      <td>Regal</td>\n",
       "      <td>2016</td>\n",
       "      <td>Midsize Cars</td>\n",
       "      <td>Front-Wheel Drive</td>\n",
       "      <td>Automatic (S6)</td>\n",
       "      <td>Regular Gasoline</td>\n",
       "      <td>4</td>\n",
       "      <td>2.4</td>\n",
       "      <td>0</td>\n",
       "      <td>98</td>\n",
       "      <td>19.4394</td>\n",
       "      <td>24.5000</td>\n",
       "      <td>30.4124</td>\n",
       "      <td>43.6000</td>\n",
       "      <td>23.2074</td>\n",
       "      <td>381</td>\n",
       "      <td>5</td>\n",
       "      <td>5</td>\n",
       "    </tr>\n",
       "    <tr>\n",
       "      <th>621</th>\n",
       "      <td>33432</td>\n",
       "      <td>Nissan</td>\n",
       "      <td>GT-R</td>\n",
       "      <td>2014</td>\n",
       "      <td>Subcompact Cars</td>\n",
       "      <td>All-Wheel Drive</td>\n",
       "      <td>Automatic (AM6)</td>\n",
       "      <td>Premium Gasoline</td>\n",
       "      <td>6</td>\n",
       "      <td>3.8</td>\n",
       "      <td>79</td>\n",
       "      <td>0</td>\n",
       "      <td>16.4644</td>\n",
       "      <td>20.2688</td>\n",
       "      <td>22.5041</td>\n",
       "      <td>30.1556</td>\n",
       "      <td>18.7260</td>\n",
       "      <td>472</td>\n",
       "      <td>4</td>\n",
       "      <td>4</td>\n",
       "    </tr>\n",
       "    <tr>\n",
       "      <th>3668</th>\n",
       "      <td>39282</td>\n",
       "      <td>Porsche</td>\n",
       "      <td>911 Turbo Cabriolet</td>\n",
       "      <td>2018</td>\n",
       "      <td>Minicompact Cars</td>\n",
       "      <td>All-Wheel Drive</td>\n",
       "      <td>Automatic (AM-S7)</td>\n",
       "      <td>Premium Gasoline</td>\n",
       "      <td>6</td>\n",
       "      <td>3.8</td>\n",
       "      <td>68</td>\n",
       "      <td>0</td>\n",
       "      <td>18.6000</td>\n",
       "      <td>23.3000</td>\n",
       "      <td>23.8000</td>\n",
       "      <td>33.3000</td>\n",
       "      <td>20.5915</td>\n",
       "      <td>430</td>\n",
       "      <td>4</td>\n",
       "      <td>4</td>\n",
       "    </tr>\n",
       "    <tr>\n",
       "      <th>371</th>\n",
       "      <td>32958</td>\n",
       "      <td>Audi</td>\n",
       "      <td>S7</td>\n",
       "      <td>2013</td>\n",
       "      <td>Midsize Cars</td>\n",
       "      <td>All-Wheel Drive</td>\n",
       "      <td>Automatic (AM-S7)</td>\n",
       "      <td>Premium Gasoline</td>\n",
       "      <td>8</td>\n",
       "      <td>4.0</td>\n",
       "      <td>0</td>\n",
       "      <td>0</td>\n",
       "      <td>16.7610</td>\n",
       "      <td>20.7539</td>\n",
       "      <td>26.9697</td>\n",
       "      <td>35.3350</td>\n",
       "      <td>20.2022</td>\n",
       "      <td>440</td>\n",
       "      <td>5</td>\n",
       "      <td>5</td>\n",
       "    </tr>\n",
       "    <tr>\n",
       "      <th>3349</th>\n",
       "      <td>38678</td>\n",
       "      <td>Lexus</td>\n",
       "      <td>LC 500</td>\n",
       "      <td>2018</td>\n",
       "      <td>Subcompact Cars</td>\n",
       "      <td>Rear-Wheel Drive</td>\n",
       "      <td>Automatic (S10)</td>\n",
       "      <td>Premium Gasoline</td>\n",
       "      <td>8</td>\n",
       "      <td>5.0</td>\n",
       "      <td>86</td>\n",
       "      <td>0</td>\n",
       "      <td>16.0021</td>\n",
       "      <td>19.8644</td>\n",
       "      <td>25.6211</td>\n",
       "      <td>36.1196</td>\n",
       "      <td>19.2552</td>\n",
       "      <td>459</td>\n",
       "      <td>3</td>\n",
       "      <td>3</td>\n",
       "    </tr>\n",
       "    <tr>\n",
       "      <th>2881</th>\n",
       "      <td>37826</td>\n",
       "      <td>Kia</td>\n",
       "      <td>Optima Hybrid</td>\n",
       "      <td>2017</td>\n",
       "      <td>Midsize Cars</td>\n",
       "      <td>Front-Wheel Drive</td>\n",
       "      <td>Automatic (AM6)</td>\n",
       "      <td>Regular Gasoline</td>\n",
       "      <td>4</td>\n",
       "      <td>2.0</td>\n",
       "      <td>0</td>\n",
       "      <td>105</td>\n",
       "      <td>39.0875</td>\n",
       "      <td>53.9804</td>\n",
       "      <td>45.9447</td>\n",
       "      <td>62.7724</td>\n",
       "      <td>41.9017</td>\n",
       "      <td>212</td>\n",
       "      <td>9</td>\n",
       "      <td>9</td>\n",
       "    </tr>\n",
       "    <tr>\n",
       "      <th>1847</th>\n",
       "      <td>35765</td>\n",
       "      <td>Ford</td>\n",
       "      <td>C-MAX Energi Plug-in Hybrid</td>\n",
       "      <td>2015</td>\n",
       "      <td>Midsize Cars</td>\n",
       "      <td>Front-Wheel Drive</td>\n",
       "      <td>Automatic (variable gear ratios)</td>\n",
       "      <td>Regular Gasoline</td>\n",
       "      <td>4</td>\n",
       "      <td>2.0</td>\n",
       "      <td>0</td>\n",
       "      <td>100</td>\n",
       "      <td>40.4488</td>\n",
       "      <td>55.0000</td>\n",
       "      <td>36.2655</td>\n",
       "      <td>51.4000</td>\n",
       "      <td>38.4528</td>\n",
       "      <td>129</td>\n",
       "      <td>10</td>\n",
       "      <td>10</td>\n",
       "    </tr>\n",
       "    <tr>\n",
       "      <th>597</th>\n",
       "      <td>33350</td>\n",
       "      <td>Jaguar</td>\n",
       "      <td>XJ</td>\n",
       "      <td>2013</td>\n",
       "      <td>Large Cars</td>\n",
       "      <td>Rear-Wheel Drive</td>\n",
       "      <td>Automatic (S8)</td>\n",
       "      <td>Premium Gasoline</td>\n",
       "      <td>6</td>\n",
       "      <td>3.0</td>\n",
       "      <td>0</td>\n",
       "      <td>102</td>\n",
       "      <td>17.9691</td>\n",
       "      <td>22.5000</td>\n",
       "      <td>26.7761</td>\n",
       "      <td>37.9000</td>\n",
       "      <td>21.0908</td>\n",
       "      <td>423</td>\n",
       "      <td>5</td>\n",
       "      <td>5</td>\n",
       "    </tr>\n",
       "    <tr>\n",
       "      <th>3893</th>\n",
       "      <td>39758</td>\n",
       "      <td>Kia</td>\n",
       "      <td>Cadenza</td>\n",
       "      <td>2018</td>\n",
       "      <td>Large Cars</td>\n",
       "      <td>Front-Wheel Drive</td>\n",
       "      <td>Automatic (S8)</td>\n",
       "      <td>Regular Gasoline</td>\n",
       "      <td>6</td>\n",
       "      <td>3.3</td>\n",
       "      <td>0</td>\n",
       "      <td>108</td>\n",
       "      <td>20.3289</td>\n",
       "      <td>25.7228</td>\n",
       "      <td>27.5829</td>\n",
       "      <td>39.1521</td>\n",
       "      <td>23.0577</td>\n",
       "      <td>383</td>\n",
       "      <td>5</td>\n",
       "      <td>5</td>\n",
       "    </tr>\n",
       "    <tr>\n",
       "      <th>2507</th>\n",
       "      <td>37029</td>\n",
       "      <td>Mercedes-Benz</td>\n",
       "      <td>AMG CLA45 4matic</td>\n",
       "      <td>2016</td>\n",
       "      <td>Compact Cars</td>\n",
       "      <td>4-Wheel Drive</td>\n",
       "      <td>Automatic (AM7)</td>\n",
       "      <td>Premium Gasoline</td>\n",
       "      <td>4</td>\n",
       "      <td>2.0</td>\n",
       "      <td>88</td>\n",
       "      <td>0</td>\n",
       "      <td>22.8912</td>\n",
       "      <td>29.3000</td>\n",
       "      <td>30.1602</td>\n",
       "      <td>43.2000</td>\n",
       "      <td>25.6759</td>\n",
       "      <td>348</td>\n",
       "      <td>6</td>\n",
       "      <td>6</td>\n",
       "    </tr>\n",
       "    <tr>\n",
       "      <th>2440</th>\n",
       "      <td>36893</td>\n",
       "      <td>Lexus</td>\n",
       "      <td>IS 350</td>\n",
       "      <td>2016</td>\n",
       "      <td>Compact Cars</td>\n",
       "      <td>Rear-Wheel Drive</td>\n",
       "      <td>Automatic (S8)</td>\n",
       "      <td>Premium Gasoline</td>\n",
       "      <td>6</td>\n",
       "      <td>3.5</td>\n",
       "      <td>0</td>\n",
       "      <td>90</td>\n",
       "      <td>19.1840</td>\n",
       "      <td>24.3000</td>\n",
       "      <td>27.5579</td>\n",
       "      <td>38.0000</td>\n",
       "      <td>22.2227</td>\n",
       "      <td>396</td>\n",
       "      <td>5</td>\n",
       "      <td>5</td>\n",
       "    </tr>\n",
       "    <tr>\n",
       "      <th>246</th>\n",
       "      <td>32725</td>\n",
       "      <td>Mercedes-Benz</td>\n",
       "      <td>S550</td>\n",
       "      <td>2013</td>\n",
       "      <td>Large Cars</td>\n",
       "      <td>Rear-Wheel Drive</td>\n",
       "      <td>Automatic 7-spd</td>\n",
       "      <td>Premium Gasoline</td>\n",
       "      <td>8</td>\n",
       "      <td>4.7</td>\n",
       "      <td>0</td>\n",
       "      <td>109</td>\n",
       "      <td>15.3736</td>\n",
       "      <td>19.5549</td>\n",
       "      <td>24.7443</td>\n",
       "      <td>33.2649</td>\n",
       "      <td>18.5317</td>\n",
       "      <td>479</td>\n",
       "      <td>4</td>\n",
       "      <td>4</td>\n",
       "    </tr>\n",
       "    <tr>\n",
       "      <th>1676</th>\n",
       "      <td>35350</td>\n",
       "      <td>Volkswagen</td>\n",
       "      <td>Jetta</td>\n",
       "      <td>2015</td>\n",
       "      <td>Compact Cars</td>\n",
       "      <td>Front-Wheel Drive</td>\n",
       "      <td>Automatic (AM-S6)</td>\n",
       "      <td>Premium Gasoline</td>\n",
       "      <td>4</td>\n",
       "      <td>2.0</td>\n",
       "      <td>0</td>\n",
       "      <td>94</td>\n",
       "      <td>23.5744</td>\n",
       "      <td>29.5595</td>\n",
       "      <td>31.8670</td>\n",
       "      <td>44.4600</td>\n",
       "      <td>26.7011</td>\n",
       "      <td>334</td>\n",
       "      <td>7</td>\n",
       "      <td>7</td>\n",
       "    </tr>\n",
       "    <tr>\n",
       "      <th>3659</th>\n",
       "      <td>39235</td>\n",
       "      <td>MINI</td>\n",
       "      <td>Cooper Clubman All4</td>\n",
       "      <td>2018</td>\n",
       "      <td>Midsize Cars</td>\n",
       "      <td>All-Wheel Drive</td>\n",
       "      <td>Automatic (S8)</td>\n",
       "      <td>Premium Gasoline</td>\n",
       "      <td>3</td>\n",
       "      <td>1.5</td>\n",
       "      <td>0</td>\n",
       "      <td>0</td>\n",
       "      <td>23.0882</td>\n",
       "      <td>29.5784</td>\n",
       "      <td>30.7828</td>\n",
       "      <td>44.1889</td>\n",
       "      <td>26.0144</td>\n",
       "      <td>341</td>\n",
       "      <td>5</td>\n",
       "      <td>5</td>\n",
       "    </tr>\n",
       "    <tr>\n",
       "      <th>24</th>\n",
       "      <td>32248</td>\n",
       "      <td>Ford</td>\n",
       "      <td>Mustang Convertible</td>\n",
       "      <td>2013</td>\n",
       "      <td>Subcompact Cars</td>\n",
       "      <td>Rear-Wheel Drive</td>\n",
       "      <td>Automatic 6-spd</td>\n",
       "      <td>Regular Gasoline</td>\n",
       "      <td>6</td>\n",
       "      <td>3.7</td>\n",
       "      <td>81</td>\n",
       "      <td>0</td>\n",
       "      <td>19.2257</td>\n",
       "      <td>24.2077</td>\n",
       "      <td>29.0745</td>\n",
       "      <td>41.4859</td>\n",
       "      <td>22.6834</td>\n",
       "      <td>392</td>\n",
       "      <td>6</td>\n",
       "      <td>6</td>\n",
       "    </tr>\n",
       "    <tr>\n",
       "      <th>3082</th>\n",
       "      <td>38156</td>\n",
       "      <td>Toyota</td>\n",
       "      <td>Corolla LE Eco</td>\n",
       "      <td>2017</td>\n",
       "      <td>Midsize Cars</td>\n",
       "      <td>Front-Wheel Drive</td>\n",
       "      <td>Automatic (variable gear ratios)</td>\n",
       "      <td>Regular Gasoline</td>\n",
       "      <td>4</td>\n",
       "      <td>1.8</td>\n",
       "      <td>0</td>\n",
       "      <td>98</td>\n",
       "      <td>29.4867</td>\n",
       "      <td>38.9000</td>\n",
       "      <td>37.5944</td>\n",
       "      <td>55.3000</td>\n",
       "      <td>32.6559</td>\n",
       "      <td>271</td>\n",
       "      <td>8</td>\n",
       "      <td>8</td>\n",
       "    </tr>\n",
       "    <tr>\n",
       "      <th>1120</th>\n",
       "      <td>34314</td>\n",
       "      <td>Honda</td>\n",
       "      <td>Accord</td>\n",
       "      <td>2014</td>\n",
       "      <td>Midsize Cars</td>\n",
       "      <td>Front-Wheel Drive</td>\n",
       "      <td>Automatic (S6)</td>\n",
       "      <td>Regular Gasoline</td>\n",
       "      <td>6</td>\n",
       "      <td>3.5</td>\n",
       "      <td>92</td>\n",
       "      <td>103</td>\n",
       "      <td>20.5803</td>\n",
       "      <td>26.0702</td>\n",
       "      <td>31.4061</td>\n",
       "      <td>45.1834</td>\n",
       "      <td>24.3587</td>\n",
       "      <td>364</td>\n",
       "      <td>6</td>\n",
       "      <td>6</td>\n",
       "    </tr>\n",
       "    <tr>\n",
       "      <th>1228</th>\n",
       "      <td>34585</td>\n",
       "      <td>Hyundai</td>\n",
       "      <td>Genesis Coupe</td>\n",
       "      <td>2014</td>\n",
       "      <td>Subcompact Cars</td>\n",
       "      <td>Rear-Wheel Drive</td>\n",
       "      <td>Manual 6-spd</td>\n",
       "      <td>Premium Gasoline</td>\n",
       "      <td>4</td>\n",
       "      <td>2.0</td>\n",
       "      <td>89</td>\n",
       "      <td>0</td>\n",
       "      <td>18.7066</td>\n",
       "      <td>23.5000</td>\n",
       "      <td>26.5822</td>\n",
       "      <td>37.6000</td>\n",
       "      <td>21.5843</td>\n",
       "      <td>406</td>\n",
       "      <td>5</td>\n",
       "      <td>5</td>\n",
       "    </tr>\n",
       "    <tr>\n",
       "      <th>527</th>\n",
       "      <td>33162</td>\n",
       "      <td>Acura</td>\n",
       "      <td>TL 4WD</td>\n",
       "      <td>2013</td>\n",
       "      <td>Midsize Cars</td>\n",
       "      <td>All-Wheel Drive</td>\n",
       "      <td>Automatic (S6)</td>\n",
       "      <td>Premium Gasoline</td>\n",
       "      <td>6</td>\n",
       "      <td>3.7</td>\n",
       "      <td>0</td>\n",
       "      <td>98</td>\n",
       "      <td>18.3385</td>\n",
       "      <td>23.0000</td>\n",
       "      <td>25.8687</td>\n",
       "      <td>36.5000</td>\n",
       "      <td>21.1028</td>\n",
       "      <td>421</td>\n",
       "      <td>5</td>\n",
       "      <td>5</td>\n",
       "    </tr>\n",
       "    <tr>\n",
       "      <th>3657</th>\n",
       "      <td>39233</td>\n",
       "      <td>Mercedes-Benz</td>\n",
       "      <td>E300</td>\n",
       "      <td>2018</td>\n",
       "      <td>Midsize Cars</td>\n",
       "      <td>Rear-Wheel Drive</td>\n",
       "      <td>Automatic 9-spd</td>\n",
       "      <td>Premium Gasoline</td>\n",
       "      <td>4</td>\n",
       "      <td>2.0</td>\n",
       "      <td>0</td>\n",
       "      <td>98</td>\n",
       "      <td>22.1096</td>\n",
       "      <td>28.2000</td>\n",
       "      <td>30.3494</td>\n",
       "      <td>43.5000</td>\n",
       "      <td>25.1868</td>\n",
       "      <td>351</td>\n",
       "      <td>5</td>\n",
       "      <td>5</td>\n",
       "    </tr>\n",
       "  </tbody>\n",
       "</table>\n",
       "</div>"
      ],
      "text/plain": [
       "         id           make                        model  year  \\\n",
       "2206  36461          Buick                        Regal  2016   \n",
       "621   33432         Nissan                         GT-R  2014   \n",
       "3668  39282        Porsche          911 Turbo Cabriolet  2018   \n",
       "371   32958           Audi                           S7  2013   \n",
       "3349  38678          Lexus                       LC 500  2018   \n",
       "2881  37826            Kia                Optima Hybrid  2017   \n",
       "1847  35765           Ford  C-MAX Energi Plug-in Hybrid  2015   \n",
       "597   33350         Jaguar                           XJ  2013   \n",
       "3893  39758            Kia                      Cadenza  2018   \n",
       "2507  37029  Mercedes-Benz             AMG CLA45 4matic  2016   \n",
       "2440  36893          Lexus                       IS 350  2016   \n",
       "246   32725  Mercedes-Benz                         S550  2013   \n",
       "1676  35350     Volkswagen                        Jetta  2015   \n",
       "3659  39235           MINI          Cooper Clubman All4  2018   \n",
       "24    32248           Ford          Mustang Convertible  2013   \n",
       "3082  38156         Toyota               Corolla LE Eco  2017   \n",
       "1120  34314          Honda                       Accord  2014   \n",
       "1228  34585        Hyundai                Genesis Coupe  2014   \n",
       "527   33162          Acura                       TL 4WD  2013   \n",
       "3657  39233  Mercedes-Benz                         E300  2018   \n",
       "\n",
       "                VClass              drive                             trans  \\\n",
       "2206      Midsize Cars  Front-Wheel Drive                    Automatic (S6)   \n",
       "621    Subcompact Cars    All-Wheel Drive                   Automatic (AM6)   \n",
       "3668  Minicompact Cars    All-Wheel Drive                 Automatic (AM-S7)   \n",
       "371       Midsize Cars    All-Wheel Drive                 Automatic (AM-S7)   \n",
       "3349   Subcompact Cars   Rear-Wheel Drive                   Automatic (S10)   \n",
       "2881      Midsize Cars  Front-Wheel Drive                   Automatic (AM6)   \n",
       "1847      Midsize Cars  Front-Wheel Drive  Automatic (variable gear ratios)   \n",
       "597         Large Cars   Rear-Wheel Drive                    Automatic (S8)   \n",
       "3893        Large Cars  Front-Wheel Drive                    Automatic (S8)   \n",
       "2507      Compact Cars      4-Wheel Drive                   Automatic (AM7)   \n",
       "2440      Compact Cars   Rear-Wheel Drive                    Automatic (S8)   \n",
       "246         Large Cars   Rear-Wheel Drive                   Automatic 7-spd   \n",
       "1676      Compact Cars  Front-Wheel Drive                 Automatic (AM-S6)   \n",
       "3659      Midsize Cars    All-Wheel Drive                    Automatic (S8)   \n",
       "24     Subcompact Cars   Rear-Wheel Drive                   Automatic 6-spd   \n",
       "3082      Midsize Cars  Front-Wheel Drive  Automatic (variable gear ratios)   \n",
       "1120      Midsize Cars  Front-Wheel Drive                    Automatic (S6)   \n",
       "1228   Subcompact Cars   Rear-Wheel Drive                      Manual 6-spd   \n",
       "527       Midsize Cars    All-Wheel Drive                    Automatic (S6)   \n",
       "3657      Midsize Cars   Rear-Wheel Drive                   Automatic 9-spd   \n",
       "\n",
       "              fuelType  cylinders  displ  pv2  pv4     city    UCity  highway  \\\n",
       "2206  Regular Gasoline          4    2.4    0   98  19.4394  24.5000  30.4124   \n",
       "621   Premium Gasoline          6    3.8   79    0  16.4644  20.2688  22.5041   \n",
       "3668  Premium Gasoline          6    3.8   68    0  18.6000  23.3000  23.8000   \n",
       "371   Premium Gasoline          8    4.0    0    0  16.7610  20.7539  26.9697   \n",
       "3349  Premium Gasoline          8    5.0   86    0  16.0021  19.8644  25.6211   \n",
       "2881  Regular Gasoline          4    2.0    0  105  39.0875  53.9804  45.9447   \n",
       "1847  Regular Gasoline          4    2.0    0  100  40.4488  55.0000  36.2655   \n",
       "597   Premium Gasoline          6    3.0    0  102  17.9691  22.5000  26.7761   \n",
       "3893  Regular Gasoline          6    3.3    0  108  20.3289  25.7228  27.5829   \n",
       "2507  Premium Gasoline          4    2.0   88    0  22.8912  29.3000  30.1602   \n",
       "2440  Premium Gasoline          6    3.5    0   90  19.1840  24.3000  27.5579   \n",
       "246   Premium Gasoline          8    4.7    0  109  15.3736  19.5549  24.7443   \n",
       "1676  Premium Gasoline          4    2.0    0   94  23.5744  29.5595  31.8670   \n",
       "3659  Premium Gasoline          3    1.5    0    0  23.0882  29.5784  30.7828   \n",
       "24    Regular Gasoline          6    3.7   81    0  19.2257  24.2077  29.0745   \n",
       "3082  Regular Gasoline          4    1.8    0   98  29.4867  38.9000  37.5944   \n",
       "1120  Regular Gasoline          6    3.5   92  103  20.5803  26.0702  31.4061   \n",
       "1228  Premium Gasoline          4    2.0   89    0  18.7066  23.5000  26.5822   \n",
       "527   Premium Gasoline          6    3.7    0   98  18.3385  23.0000  25.8687   \n",
       "3657  Premium Gasoline          4    2.0    0   98  22.1096  28.2000  30.3494   \n",
       "\n",
       "      UHighway     comb  co2  feScore  ghgScore  \n",
       "2206   43.6000  23.2074  381        5         5  \n",
       "621    30.1556  18.7260  472        4         4  \n",
       "3668   33.3000  20.5915  430        4         4  \n",
       "371    35.3350  20.2022  440        5         5  \n",
       "3349   36.1196  19.2552  459        3         3  \n",
       "2881   62.7724  41.9017  212        9         9  \n",
       "1847   51.4000  38.4528  129       10        10  \n",
       "597    37.9000  21.0908  423        5         5  \n",
       "3893   39.1521  23.0577  383        5         5  \n",
       "2507   43.2000  25.6759  348        6         6  \n",
       "2440   38.0000  22.2227  396        5         5  \n",
       "246    33.2649  18.5317  479        4         4  \n",
       "1676   44.4600  26.7011  334        7         7  \n",
       "3659   44.1889  26.0144  341        5         5  \n",
       "24     41.4859  22.6834  392        6         6  \n",
       "3082   55.3000  32.6559  271        8         8  \n",
       "1120   45.1834  24.3587  364        6         6  \n",
       "1228   37.6000  21.5843  406        5         5  \n",
       "527    36.5000  21.1028  421        5         5  \n",
       "3657   43.5000  25.1868  351        5         5  "
      ]
     },
     "execution_count": 8,
     "metadata": {},
     "output_type": "execute_result"
    }
   ],
   "source": [
    "df.sample(20)"
   ]
  },
  {
   "cell_type": "markdown",
   "metadata": {},
   "source": [
    "The `pv2` and `pv4` seem to be the same variable spread across multiple columns. This is a tidiness issue and should be cleaned. However, since this isn't the focus of this exercise, it will be overlooked"
   ]
  },
  {
   "cell_type": "markdown",
   "metadata": {},
   "source": [
    "### Univariate Analysis\n",
    "The goal of univariate analysis is to explore the distribution of individual variables\n",
    "* **Categorical Variables**\n",
    "    * bar charts\n",
    "    * pie/donut charts\n",
    "* **Numerical Variables**\n",
    "    * histograms\n",
    "    * box plots"
   ]
  },
  {
   "cell_type": "markdown",
   "metadata": {},
   "source": [
    "#### Categorical Ordinal Variables - VClass\n",
    "Ordinal variables should be arranged with their inherent order"
   ]
  },
  {
   "cell_type": "code",
   "execution_count": 13,
   "metadata": {},
   "outputs": [
    {
     "data": {
      "image/png": "[encoded data removed]",
      "text/plain": [
       "<Figure size 1080x504 with 1 Axes>"
      ]
     },
     "metadata": {
      "needs_background": "light"
     },
     "output_type": "display_data"
    }
   ],
   "source": [
    "# exploring the distribution of VClass\n",
    "\n",
    "# set the base color to avoid making noise with numerous color\n",
    "base_color = sb.color_palette()[0]\n",
    "# change the figure size\n",
    "plt.figure(figsize=(15,7))\n",
    "# use seaborn's countplot to plot a bargraph\n",
    "sb.countplot(data=df, x='VClass', color=base_color)\n",
    "plt.title('Distribution of VClass');"
   ]
  },
  {
   "cell_type": "markdown",
   "metadata": {},
   "source": [
    "Most cars in this dataset are Midsize cars. A good number of them are also Compact cars."
   ]
  },
  {
   "cell_type": "markdown",
   "metadata": {},
   "source": [
    "#### Categorical Nominal Variables - make\n",
    "Nominal variables should be arranged in the order of the highest frequency"
   ]
  },
  {
   "cell_type": "code",
   "execution_count": 16,
   "metadata": {},
   "outputs": [
    {
     "data": {
      "text/plain": [
       "BMW                  523\n",
       "Mercedes-Benz        269\n",
       "Porsche              235\n",
       "Ford                 218\n",
       "Chevrolet            212\n",
       "MINI                 201\n",
       "Audi                 201\n",
       "Volkswagen           174\n",
       "Hyundai              158\n",
       "Dodge                140\n",
       "Lexus                125\n",
       "Kia                  124\n",
       "Cadillac             118\n",
       "Toyota               116\n",
       "Infiniti             108\n",
       "Honda                101\n",
       "Jaguar                98\n",
       "Mazda                 87\n",
       "Nissan                71\n",
       "Buick                 66\n",
       "Subaru                60\n",
       "Chrysler              58\n",
       "Lincoln               52\n",
       "Volvo                 50\n",
       "Acura                 46\n",
       "Bentley               45\n",
       "Mitsubishi            44\n",
       "Rolls-Royce           42\n",
       "Maserati              39\n",
       "Scion                 27\n",
       "Fiat                  26\n",
       "Ferrari               23\n",
       "Genesis               17\n",
       "Aston Martin          15\n",
       "Suzuki                13\n",
       "Roush Performance     10\n",
       "Lotus                 10\n",
       "Alfa Romeo             6\n",
       "Karma                  1\n",
       "Name: make, dtype: int64"
      ]
     },
     "execution_count": 16,
     "metadata": {},
     "output_type": "execute_result"
    }
   ],
   "source": [
    "# exploring the distribution of make\n",
    "\n",
    "# arrange the categories in the order of highest frequency\n",
    "make_freq = df.make.value_counts()\n",
    "make_freq"
   ]
  },
  {
   "cell_type": "markdown",
   "metadata": {},
   "source": [
    "Since there are so many catgories, a horizontal bar chart will be appropriate here."
   ]
  },
  {
   "cell_type": "code",
   "execution_count": 17,
   "metadata": {},
   "outputs": [
    {
     "data": {
      "image/png": "[encoded data removed]",
      "text/plain": [
       "<Figure size 1080x504 with 1 Axes>"
      ]
     },
     "metadata": {
      "needs_background": "light"
     },
     "output_type": "display_data"
    }
   ],
   "source": [
    "# change the figure size\n",
    "plt.figure(figsize=(15,7))\n",
    "# use seaborn's countplot to plot a bargraph\n",
    "sb.countplot(data=df, y='make', color=base_color, order=make_freq.index)\n",
    "plt.title('Distribution of make');"
   ]
  },
  {
   "cell_type": "markdown",
   "metadata": {},
   "source": [
    "Most of the cars in this dataset seem to be luxury cars because BMW, Benz and Porsche top the list."
   ]
  },
  {
   "cell_type": "markdown",
   "metadata": {},
   "source": [
    "#### Numerical Continuous Variables - city\n",
    "To get a good view of the distribution, we will explore different bin sizes. We'll plot them side by side using subplots."
   ]
  },
  {
   "cell_type": "code",
   "execution_count": 22,
   "metadata": {},
   "outputs": [
    {
     "data": {
      "text/plain": [
       "count    3929.000000\n",
       "mean       21.830462\n",
       "std         6.246273\n",
       "min        10.540200\n",
       "25%        17.746900\n",
       "50%        20.823200\n",
       "75%        24.981400\n",
       "max        57.808800\n",
       "Name: city, dtype: float64"
      ]
     },
     "execution_count": 22,
     "metadata": {},
     "output_type": "execute_result"
    }
   ],
   "source": [
    "df.city.describe()"
   ]
  },
  {
   "cell_type": "code",
   "execution_count": 32,
   "metadata": {},
   "outputs": [
    {
     "data": {
      "image/png": "[encoded data removed]",
      "text/plain": [
       "<Figure size 1080x504 with 2 Axes>"
      ]
     },
     "metadata": {
      "needs_background": "light"
     },
     "output_type": "display_data"
    }
   ],
   "source": [
    "plt.figure(figsize = (15,7))\n",
    "\n",
    "# create a subplot\n",
    "plt.subplot(1,2,1)\n",
    "# define the bin edges\n",
    "bin_edges = np.arange(df.city.min(), df.city.max()+3, 3)\n",
    "plt.hist(data=df, x='city', bins=bin_edges)\n",
    "plt.xlabel('city')\n",
    "plt.ylabel('frequency')\n",
    "plt.title('Frequency distribution of city')\n",
    "\n",
    "# create a subplot\n",
    "plt.subplot(1,2,2)\n",
    "# define the bin edges\n",
    "bin_edges = np.arange(df.city.min(), df.city.max()+1, 1)\n",
    "plt.hist(data=df, x='city', bins=bin_edges)\n",
    "plt.xlabel('city')\n",
    "plt.ylabel('frequency')\n",
    "plt.title('Frequency distribution of city');"
   ]
  },
  {
   "cell_type": "code",
   "execution_count": 55,
   "metadata": {},
   "outputs": [
    {
     "data": {
      "image/png": "[encoded data removed]",
      "text/plain": [
       "<Figure size 1080x504 with 1 Axes>"
      ]
     },
     "metadata": {
      "needs_background": "light"
     },
     "output_type": "display_data"
    }
   ],
   "source": [
    "plt.figure(figsize=(15,7))\n",
    "sb.boxplot(x = 'city', data = df)\n",
    "plt.title('Box plot showing the summary statistics of city');"
   ]
  },
  {
   "cell_type": "markdown",
   "metadata": {},
   "source": [
    "From the box plot above, there seems to be outliers from `35`. We can limit the axis to get a better view of the distribution of the data."
   ]
  },
  {
   "cell_type": "code",
   "execution_count": 48,
   "metadata": {},
   "outputs": [
    {
     "data": {
      "image/png": "[encoded data removed]",
      "text/plain": [
       "<Figure size 1080x504 with 1 Axes>"
      ]
     },
     "metadata": {
      "needs_background": "light"
     },
     "output_type": "display_data"
    }
   ],
   "source": [
    "plt.figure(figsize = (15,7))\n",
    "bin_edges = np.arange(df.city.min(), df.city.max()+1, 1)\n",
    "plt.hist(data=df, x='city', bins=bin_edges)\n",
    "plt.xlabel('city')\n",
    "plt.ylabel('frequency')\n",
    "plt.title('Frequency distribution of city')\n",
    "plt.xlim(10,40);"
   ]
  },
  {
   "cell_type": "markdown",
   "metadata": {},
   "source": [
    "The distribution of city seems to be unimodal and normally distributed. A lot of cars have a city measurement between 15 and 25 with most of them falling around 20."
   ]
  },
  {
   "cell_type": "markdown",
   "metadata": {},
   "source": [
    "#### Numerical Discrete Variables - ghgScore\n",
    "When plotting histograms for discrete variables, the bin edges should be in between integers. Also, to give the idea that they are discrete, the bins should be spaced."
   ]
  },
  {
   "cell_type": "code",
   "execution_count": 60,
   "metadata": {},
   "outputs": [
    {
     "data": {
      "text/plain": [
       "count    3929.000000\n",
       "mean        5.659201\n",
       "std         1.754589\n",
       "min         1.000000\n",
       "25%         5.000000\n",
       "50%         5.000000\n",
       "75%         7.000000\n",
       "max        10.000000\n",
       "Name: ghgScore, dtype: float64"
      ]
     },
     "execution_count": 60,
     "metadata": {},
     "output_type": "execute_result"
    }
   ],
   "source": [
    "df.ghgScore.describe()"
   ]
  },
  {
   "cell_type": "code",
   "execution_count": 66,
   "metadata": {},
   "outputs": [
    {
     "data": {
      "image/png": "[encoded data removed]",
      "text/plain": [
       "<Figure size 1080x504 with 1 Axes>"
      ]
     },
     "metadata": {
      "needs_background": "light"
     },
     "output_type": "display_data"
    }
   ],
   "source": [
    "bin_edges = np.arange(0.5, 10.5+1, 1)\n",
    "plt.figure(figsize=(15,7))\n",
    "# the rwidth parameter is used to reduce the space taken up by the bin rectangles, this is to give an illusion of the space between bins\n",
    "plt.hist(x='ghgScore', data=df, bins = bin_edges, rwidth=0.7)\n",
    "plt.xlabel('ghgScore')\n",
    "plt.title('Frequency Distribution of ghgScore')\n",
    "plt.xticks(np.arange(1, 10+1, 1));"
   ]
  },
  {
   "cell_type": "markdown",
   "metadata": {},
   "source": [
    "Most cars have a ghgScore between 4 and 7. Very few of them are scored excellent or poor."
   ]
  },
  {
   "cell_type": "markdown",
   "metadata": {},
   "source": [
    "### Bivariate Analysis\n",
    "The goal of bivariate analysis is to explore the relationship between two variables\n",
    "* **Numerical vs Numerical Variables**\n",
    "    * scatter plots\n",
    "* **Numerical vs Categorical Variables**\n",
    "    * box plots\n",
    "    * heat maps\n",
    "* **Categorical vs Categorical Variables**\n",
    "    * clustered bar charts"
   ]
  },
  {
   "cell_type": "markdown",
   "metadata": {},
   "source": [
    "#### Numerical vs Numerical - city vs UCity\n",
    "Scatter plots help us see the correlation between two numerical variables"
   ]
  },
  {
   "cell_type": "code",
   "execution_count": 69,
   "metadata": {},
   "outputs": [
    {
     "data": {
      "image/png": "[encoded data removed]",
      "text/plain": [
       "<Figure size 1080x504 with 1 Axes>"
      ]
     },
     "metadata": {
      "needs_background": "light"
     },
     "output_type": "display_data"
    }
   ],
   "source": [
    "plt.figure(figsize=(15,7))\n",
    "plt.scatter(x='city',y='UCity', data=df)\n",
    "plt.xlabel('city')\n",
    "plt.ylabel('UCity')\n",
    "plt.title('Relationship between city and Ucity');"
   ]
  },
  {
   "cell_type": "markdown",
   "metadata": {},
   "source": [
    "city has a strong positive correlation with UCity especially city values between 10 and 30 and UCity values between 10 and 40."
   ]
  },
  {
   "cell_type": "markdown",
   "metadata": {},
   "source": [
    "#### Numerical vs Categorical - VClass vs comb\n",
    "How does comb vary across the different categories of the Vclass?"
   ]
  },
  {
   "cell_type": "code",
   "execution_count": 71,
   "metadata": {},
   "outputs": [
    {
     "data": {
      "image/png": "[encoded data removed]",
      "text/plain": [
       "<Figure size 1080x504 with 1 Axes>"
      ]
     },
     "metadata": {
      "needs_background": "light"
     },
     "output_type": "display_data"
    }
   ],
   "source": [
    "plt.figure(figsize=(15,7))\n",
    "sb.violinplot(x='VClass', y='comb', data=df, color=base_color);"
   ]
  },
  {
   "cell_type": "markdown",
   "metadata": {},
   "source": [
    "Most minicompat cars seem to take on comb values around 20 or 30. This seems to increase as the size of the vehicle increases up till Midsize cars. Large cars seem to take on low comb values."
   ]
  },
  {
   "cell_type": "code",
   "execution_count": 72,
   "metadata": {},
   "outputs": [
    {
     "data": {
      "image/png": "[encoded data removed]",
      "text/plain": [
       "<Figure size 1080x504 with 1 Axes>"
      ]
     },
     "metadata": {
      "needs_background": "light"
     },
     "output_type": "display_data"
    }
   ],
   "source": [
    "plt.figure(figsize=(15,7))\n",
    "sb.boxplot(x='VClass', y='comb', data=df, color=base_color);"
   ]
  },
  {
   "cell_type": "markdown",
   "metadata": {},
   "source": [
    "The Midsize and Compact cars seem to have a higher `comb` median compared to the other vehicle classes. Large cars generally have a lower comb compared to other classes."
   ]
  },
  {
   "cell_type": "markdown",
   "metadata": {},
   "source": [
    "#### Categorical vs Categorical - VClass vs fuelType"
   ]
  },
  {
   "cell_type": "code",
   "execution_count": 73,
   "metadata": {},
   "outputs": [
    {
     "data": {
      "image/png": "[encoded data removed]",
      "text/plain": [
       "<Figure size 1080x504 with 1 Axes>"
      ]
     },
     "metadata": {
      "needs_background": "light"
     },
     "output_type": "display_data"
    }
   ],
   "source": [
    "plt.figure(figsize=(15,7))\n",
    "sb.countplot(x='VClass', data=df, hue='fuelType');"
   ]
  },
  {
   "cell_type": "markdown",
   "metadata": {},
   "source": [
    "All cars use premium gasoline. Minicompact cars use only premium gasoline. Midsize cars use mostly regular gasoline. Only Midsize and Large cars use midgrade gasoline."
   ]
  }
 ],
 "metadata": {
  "kernelspec": {
   "display_name": "Python 3 (ipykernel)",
   "language": "python",
   "name": "python3"
  },
  "language_info": {
   "codemirror_mode": {
    "name": "ipython",
    "version": 3
   },
   "file_extension": ".py",
   "mimetype": "text/x-python",
   "name": "python",
   "nbconvert_exporter": "python",
   "pygments_lexer": "ipython3",
   "version": "3.8.13"
  },
  "vscode": {
   "interpreter": {
    "hash": "c1d9d1db6656f03f9e55a8a8bd2ac24f7be64bb4987a9eb00bdfad2e0824ed02"
   }
  }
 },
 "nbformat": 4,
 "nbformat_minor": 2
}
